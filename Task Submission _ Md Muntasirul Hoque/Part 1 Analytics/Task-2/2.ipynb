{
 "cells": [
  {
   "cell_type": "code",
   "execution_count": null,
   "id": "56c5e19e",
   "metadata": {},
   "outputs": [],
   "source": [
    "\n",
    "import pandas as pd\n",
    "import numpy as np"
   ]
  },
  {
   "cell_type": "code",
   "execution_count": 2,
   "id": "44d662cf",
   "metadata": {},
   "outputs": [],
   "source": [
    "# Load the uploaded CSV files\n",
    "member_info_path = r\"C:\\Users\\MdMuntasirulHoque\\OneDrive - ADA Global\\Desktop\\Certificate\\Data Challenge Insightin Technology 2025 (1)\\Data Challenge Insightin Technology 2025\\analytics\\MemberInfo.csv\"\n",
    "record_path = r\"C:\\Users\\MdMuntasirulHoque\\OneDrive - ADA Global\\Desktop\\Certificate\\Data Challenge Insightin Technology 2025 (1)\\Data Challenge Insightin Technology 2025\\analytics\\Record.csv\""
   ]
  },
  {
   "cell_type": "code",
   "execution_count": 3,
   "id": "29281563",
   "metadata": {},
   "outputs": [],
   "source": [
    "# Read the data into DataFrames\n",
    "member_df = pd.read_csv(member_info_path)\n",
    "record_df = pd.read_csv(record_path)"
   ]
  },
  {
   "cell_type": "code",
   "execution_count": 4,
   "id": "5f884713",
   "metadata": {},
   "outputs": [
    {
     "data": {
      "text/plain": [
       "(   MEMBER_ID\n",
       " 0      16719\n",
       " 1      85454\n",
       " 2      81899\n",
       " 3      91194\n",
       " 4      87518,\n",
       "    MEMBER_ID SURVEY_DATE  COMP_FORM DATE_OF_BIRTH  GENDER  RACE  \\\n",
       " 0          6   4/11/2019        4.0     23-Sep-59     2.0   1.0   \n",
       " 1          8    3/8/2019        1.0      3-May-52     2.0   NaN   \n",
       " 2         11   5/13/2019        1.0     18-Mar-65     2.0   1.0   \n",
       " 3         11   12/5/2019        1.0     18-Mar-65     2.0   1.0   \n",
       " 4         12  10/22/2019        1.0      6-Aug-59     2.0   1.0   \n",
       " \n",
       "    HISPANIC_LATIO  LANGUAGE HEIGHT WEIGHT  ...  Q30_CARE_PAST_30_1  \\\n",
       " 0             1.0       1.0     64    117  ...                 1.0   \n",
       " 1             NaN       1.0    NaN    NaN  ...                 1.0   \n",
       " 2             1.0       1.0    5'1    144  ...                 1.0   \n",
       " 3             1.0       1.0    NaN    NaN  ...                 NaN   \n",
       " 4             1.0       1.0    NaN    NaN  ...                 1.0   \n",
       " \n",
       "    Q30_CARE_PAST_30_2  Q30_CARE_PAST_30_3  Q30_CARE_PAST_30_4  \\\n",
       " 0                 1.0                 1.0                 1.0   \n",
       " 1                 NaN                 NaN                 NaN   \n",
       " 2                 NaN                 NaN                 NaN   \n",
       " 3                 NaN                 NaN                 NaN   \n",
       " 4                 1.0                 NaN                 NaN   \n",
       " \n",
       "    Q30_CARE_PAST_30_5  Q30_CARE_PAST_30_6  Q30_CARE_PAST_30_7  \\\n",
       " 0                 NaN                 NaN                 NaN   \n",
       " 1                 NaN                 NaN                 NaN   \n",
       " 2                 NaN                 NaN                 NaN   \n",
       " 3                 NaN                 NaN                 1.0   \n",
       " 4                 NaN                 NaN                 NaN   \n",
       " \n",
       "    Q31_TREAT_CHANGES  Q32_PAIN_SCALE  Q33_PROGRAMS_AVAIL  \n",
       " 0                2.0             1.0                 NaN  \n",
       " 1                NaN             NaN                 0.0  \n",
       " 2                1.0             1.0                 1.0  \n",
       " 3                1.0             NaN                 0.0  \n",
       " 4                2.0             NaN                 NaN  \n",
       " \n",
       " [5 rows x 103 columns])"
      ]
     },
     "execution_count": 4,
     "metadata": {},
     "output_type": "execute_result"
    }
   ],
   "source": [
    "# Display the first few rows of each DataFrame\n",
    "member_df.head(), record_df.head()"
   ]
  },
  {
   "cell_type": "code",
   "execution_count": 5,
   "id": "5619c1cf",
   "metadata": {},
   "outputs": [
    {
     "data": {
      "text/plain": [
       "(Q29_ANNUAL_SCRN\n",
       " 2.0    17981\n",
       " 1.0     5152\n",
       " NaN     3955\n",
       " Name: count, dtype: int64,\n",
       " np.float64(0.7772878571737345))"
      ]
     },
     "execution_count": 5,
     "metadata": {},
     "output_type": "execute_result"
    }
   ],
   "source": [
    "# Filter records for members in MemberInfo\n",
    "target_records = record_df[record_df[\"MEMBER_ID\"].isin(member_df[\"MEMBER_ID\"])].copy()\n",
    "\n",
    "# Convert SURVEY_DATE to datetime for sorting\n",
    "target_records[\"SURVEY_DATE\"] = pd.to_datetime(target_records[\"SURVEY_DATE\"], errors='coerce')\n",
    "\n",
    "# Keep only the latest survey record per member\n",
    "latest_records = target_records.sort_values(\"SURVEY_DATE\").drop_duplicates(\"MEMBER_ID\", keep=\"last\")\n",
    "\n",
    "# Check value counts of Q29_ANNUAL_SCRN\n",
    "screening_counts = latest_records[\"Q29_ANNUAL_SCRN\"].value_counts(dropna=False)\n",
    "\n",
    "# Calculate completion rate (2 = Yes, 1 = No)\n",
    "completed = screening_counts.get(2, 0)\n",
    "total_with_response = screening_counts.get(1, 0) + completed\n",
    "completion_rate = completed / total_with_response if total_with_response > 0 else None\n",
    "\n",
    "screening_counts, completion_rate\n"
   ]
  },
  {
   "cell_type": "markdown",
   "id": "5a97b0ef",
   "metadata": {},
   "source": [
    "```python\n",
    "Results for (a) & (b)\n",
    "We filtered the records and retained only the latest survey per member from the target list.\n",
    "Completed (Q29_ANNUAL_SCRN = 2): 17,981\n",
    "Not Completed (Q29_ANNUAL_SCRN = 1): 5,152\n",
    "Missing/Blank: 3,955\n",
    "Completion Rate (based on available responses):\n",
    "~77.73%\n",
    "So about 78% of the target members who responded did complete their annual screening.\n",
    "\n",
    "\n",
    "```"
   ]
  },
  {
   "cell_type": "code",
   "execution_count": 6,
   "id": "8cb14849",
   "metadata": {},
   "outputs": [
    {
     "data": {
      "text/plain": [
       "(                   Missing Values  Missing (%)\n",
       " Q8T_FOLLOW_UP_2             27087    99.996308\n",
       " Q8T_FOLLOW_UP_7             27068    99.926167\n",
       " Q8T_FOLLOW_UP_5             27063    99.907708\n",
       " Q8T_FOLLOW_UP_3             27046    99.844950\n",
       " Q5_HEALTH_COND_7            27026    99.771116\n",
       " Q8T_FOLLOW_UP_4             27015    99.730508\n",
       " Q6_WELLBEING_4              27004    99.689900\n",
       " Q8T_FOLLOW_UP_6             26935    99.435174\n",
       " Q5_HEALTH_COND_12           26808    98.966332\n",
       " Q8T_FOLLOW_UP_1             26699    98.563940,\n",
       "                     count          mean           std  min       25%      50%  \\\n",
       " MEMBER_ID         27088.0  44250.612338  28111.826491  6.0  19161.75  39947.5   \n",
       " COMP_FORM         26946.0      3.081793      1.363900  1.0      1.00      4.0   \n",
       " GENDER            25975.0      1.639461      0.480166  1.0      1.00      2.0   \n",
       " RACE              23766.0      2.145965      2.065992  1.0      1.00      1.0   \n",
       " HISPANIC_LATIO    23813.0      1.181959      0.385819  1.0      1.00      1.0   \n",
       " LANGUAGE          26054.0      1.072350      0.276972  1.0      1.00      1.0   \n",
       " VISION_IMP        23428.0      1.239244      0.426631  1.0      1.00      1.0   \n",
       " HEARING_IMP       23025.0      1.099848      0.299804  1.0      1.00      1.0   \n",
       " Q1_PREGNANT       14477.0      1.008565      0.092155  1.0      1.00      1.0   \n",
       " Q2_BCS_PAST_YEAR  15632.0      1.494371      0.499984  1.0      1.00      1.0   \n",
       " \n",
       "                        75%      max  \n",
       " MEMBER_ID         70835.25  90770.0  \n",
       " COMP_FORM             4.00      4.0  \n",
       " GENDER                2.00      2.0  \n",
       " RACE                  2.00      7.0  \n",
       " HISPANIC_LATIO        1.00      2.0  \n",
       " LANGUAGE              1.00      3.0  \n",
       " VISION_IMP            1.00      2.0  \n",
       " HEARING_IMP           1.00      2.0  \n",
       " Q1_PREGNANT           1.00      2.0  \n",
       " Q2_BCS_PAST_YEAR      2.00      2.0  )"
      ]
     },
     "execution_count": 6,
     "metadata": {},
     "output_type": "execute_result"
    }
   ],
   "source": [
    "# Select the latest records for analysis\n",
    "df = latest_records.copy()\n",
    "\n",
    "# Basic data overview: missing values\n",
    "missing_summary = df.isnull().sum().sort_values(ascending=False)\n",
    "missing_percent = (missing_summary / len(df)) * 100\n",
    "missing_df = pd.DataFrame({\n",
    "    \"Missing Values\": missing_summary,\n",
    "    \"Missing (%)\": missing_percent\n",
    "})\n",
    "\n",
    "# Basic stats for numerical columns\n",
    "numeric_cols = df.select_dtypes(include=['number']).columns\n",
    "numerical_summary = df[numeric_cols].describe().T\n",
    "\n",
    "missing_df.head(10), numerical_summary.head(10)\n"
   ]
  },
  {
   "cell_type": "markdown",
   "id": "5d4973d2",
   "metadata": {},
   "source": [
    "here’s the deal with step (c): data cleaning.\n",
    "\n",
    "```python\n",
    "\n",
    "Missing Value Summary:\n",
    "There are some columns basically 100% empty — like:\n",
    "Q8T_FOLLOW_UP_1 to Q8T_FOLLOW_UP_7\n",
    "Q5_HEALTH_COND_7 and Q5_HEALTH_COND_12\n",
    "Q6_WELLBEING_4\n",
    "These are useless for modeling — we’ll drop them.\n",
    "\n",
    "Other Missingness:\n",
    "Demographic fields like GENDER, RACE, HISPANIC_LATIO, etc. have ~10–15% missing.\n",
    "Some survey questions have missing values, but they’re still informative — we’ll impute these later (likely with mode or most frequent category).\n",
    "\n",
    "Cleaning Plan: \n",
    "Drop columns with >95% missing.Impute missing values for categorical variables using mode (most common).\n",
    "\n",
    "Drop records that still have missing target values (Q29_ANNUAL_SCRN).\n",
    "\n",
    "```"
   ]
  },
  {
   "cell_type": "code",
   "execution_count": 7,
   "id": "292579ac",
   "metadata": {},
   "outputs": [
    {
     "name": "stderr",
     "output_type": "stream",
     "text": [
      "C:\\Users\\MdMuntasirulHoque\\AppData\\Local\\Temp\\ipykernel_17204\\3016163557.py:13: FutureWarning: A value is trying to be set on a copy of a DataFrame or Series through chained assignment using an inplace method.\n",
      "The behavior will change in pandas 3.0. This inplace method will never work because the intermediate object on which we are setting values always behaves as a copy.\n",
      "\n",
      "For example, when doing 'df[col].method(value, inplace=True)', try using 'df.method({col: value}, inplace=True)' or df[col] = df[col].method(value) instead, to perform the operation inplace on the original object.\n",
      "\n",
      "\n",
      "  df_cleaned[col].fillna(mode_value[0], inplace=True)\n"
     ]
    },
    {
     "data": {
      "text/plain": [
       "((23133, 80), np.int64(0))"
      ]
     },
     "execution_count": 7,
     "metadata": {},
     "output_type": "execute_result"
    }
   ],
   "source": [
    "# Step 1: Drop columns with more than 95% missing values\n",
    "cols_to_drop = missing_df[missing_df[\"Missing (%)\"] > 95].index.tolist()\n",
    "df_cleaned = df.drop(columns=cols_to_drop)\n",
    "\n",
    "# Step 2: Drop rows with missing target\n",
    "df_cleaned = df_cleaned[df_cleaned[\"Q29_ANNUAL_SCRN\"].notnull()]\n",
    "\n",
    "# Step 3: Fill missing values with mode (categorical imputation)\n",
    "for col in df_cleaned.columns:\n",
    "    if df_cleaned[col].isnull().sum() > 0:\n",
    "        mode_value = df_cleaned[col].mode(dropna=True)\n",
    "        if not mode_value.empty:\n",
    "            df_cleaned[col].fillna(mode_value[0], inplace=True)\n",
    "\n",
    "# Verify remaining missing values\n",
    "remaining_missing = df_cleaned.isnull().sum().sum()\n",
    "\n",
    "df_cleaned.shape, remaining_missing\n"
   ]
  },
  {
   "cell_type": "code",
   "execution_count": 8,
   "id": "61746272",
   "metadata": {},
   "outputs": [
    {
     "name": "stderr",
     "output_type": "stream",
     "text": [
      "C:\\Users\\MdMuntasirulHoque\\AppData\\Local\\Temp\\ipykernel_17204\\860745560.py:12: FutureWarning: A value is trying to be set on a copy of a DataFrame or Series through chained assignment using an inplace method.\n",
      "The behavior will change in pandas 3.0. This inplace method will never work because the intermediate object on which we are setting values always behaves as a copy.\n",
      "\n",
      "For example, when doing 'df[col].method(value, inplace=True)', try using 'df.method({col: value}, inplace=True)' or df[col] = df[col].method(value) instead, to perform the operation inplace on the original object.\n",
      "\n",
      "\n",
      "  df_cleaned[col].fillna(mode_val, inplace=True)\n"
     ]
    },
    {
     "name": "stdout",
     "output_type": "stream",
     "text": [
      "Remaining missing values: 0\n"
     ]
    }
   ],
   "source": [
    "# Drop columns with more than 95% missing values\n",
    "cols_to_drop = df.columns[df.isnull().mean() > 0.95]\n",
    "df_cleaned = df.drop(columns=cols_to_drop)\n",
    "\n",
    "# Drop rows where the target variable is missing\n",
    "df_cleaned = df_cleaned[df_cleaned[\"Q29_ANNUAL_SCRN\"].notnull()]\n",
    "\n",
    "# Fill missing values with mode for categorical features\n",
    "for col in df_cleaned.columns:\n",
    "    if df_cleaned[col].isnull().sum() > 0:\n",
    "        mode_val = df_cleaned[col].mode().iloc[0]\n",
    "        df_cleaned[col].fillna(mode_val, inplace=True)\n",
    "\n",
    "# Check the result\n",
    "print(\"Remaining missing values:\", df_cleaned.isnull().sum().sum())\n"
   ]
  },
  {
   "cell_type": "code",
   "execution_count": 10,
   "id": "815ead33",
   "metadata": {},
   "outputs": [
    {
     "name": "stdout",
     "output_type": "stream",
     "text": [
      "Collecting xgboost\n",
      "  Using cached xgboost-3.0.2-py3-none-win_amd64.whl.metadata (2.1 kB)\n",
      "Requirement already satisfied: numpy in c:\\users\\mdmuntasirulhoque\\appdata\\local\\programs\\python\\python310\\lib\\site-packages (from xgboost) (2.0.2)\n",
      "Requirement already satisfied: scipy in c:\\users\\mdmuntasirulhoque\\appdata\\local\\programs\\python\\python310\\lib\\site-packages (from xgboost) (1.15.2)\n",
      "Using cached xgboost-3.0.2-py3-none-win_amd64.whl (150.0 MB)\n",
      "Installing collected packages: xgboost\n",
      "Successfully installed xgboost-3.0.2\n"
     ]
    }
   ],
   "source": [
    "!pip install xgboost\n"
   ]
  },
  {
   "cell_type": "markdown",
   "id": "1f1884d4",
   "metadata": {},
   "source": [
    "Modeling Pipeline Outline:\n",
    "\n",
    "Convert Q29_ANNUAL_SCRN to binary:\n",
    "\n",
    "    1 (did not complete) → 0,\n",
    "    2 (completed) → 1.\n",
    "\n",
    "Label encode categorical columns.\n",
    "\n",
    "    Train/test split (80/20).\n",
    "\n",
    "Train a few models:\n",
    "\n",
    "    Logistic Regression (baseline)\n",
    "\n",
    "    Random Forest (non-linear)\n",
    "\n",
    "    XGBoost (if available)\n",
    "\n",
    "Evaluate with:\n",
    "\n",
    "    Accuracy\n",
    "\n",
    "    Precision, Recall, F1\n",
    "\n",
    "    ROC-AUC\n",
    "\n",
    "Feature importance extraction from the best model.\n",
    "\n"
   ]
  },
  {
   "cell_type": "code",
   "execution_count": 11,
   "id": "81c350e9",
   "metadata": {},
   "outputs": [
    {
     "name": "stderr",
     "output_type": "stream",
     "text": [
      "c:\\Users\\MdMuntasirulHoque\\AppData\\Local\\Programs\\Python\\Python310\\lib\\site-packages\\sklearn\\linear_model\\_logistic.py:465: ConvergenceWarning: lbfgs failed to converge (status=1):\n",
      "STOP: TOTAL NO. OF ITERATIONS REACHED LIMIT.\n",
      "\n",
      "Increase the number of iterations (max_iter) or scale the data as shown in:\n",
      "    https://scikit-learn.org/stable/modules/preprocessing.html\n",
      "Please also refer to the documentation for alternative solver options:\n",
      "    https://scikit-learn.org/stable/modules/linear_model.html#logistic-regression\n",
      "  n_iter_i = _check_optimize_result(\n"
     ]
    },
    {
     "name": "stdout",
     "output_type": "stream",
     "text": [
      "\n",
      "Logistic Regression\n",
      "              precision    recall  f1-score   support\n",
      "\n",
      "           0       0.61      0.13      0.21      1078\n",
      "           1       0.79      0.97      0.87      3549\n",
      "\n",
      "    accuracy                           0.78      4627\n",
      "   macro avg       0.70      0.55      0.54      4627\n",
      "weighted avg       0.75      0.78      0.72      4627\n",
      "\n",
      "ROC AUC Score: 0.6890866851620384\n",
      "\n",
      "Random Forest\n",
      "              precision    recall  f1-score   support\n",
      "\n",
      "           0       0.59      0.13      0.21      1078\n",
      "           1       0.79      0.97      0.87      3549\n",
      "\n",
      "    accuracy                           0.78      4627\n",
      "   macro avg       0.69      0.55      0.54      4627\n",
      "weighted avg       0.74      0.78      0.72      4627\n",
      "\n",
      "ROC AUC Score: 0.6792461855256203\n"
     ]
    },
    {
     "name": "stderr",
     "output_type": "stream",
     "text": [
      "c:\\Users\\MdMuntasirulHoque\\AppData\\Local\\Programs\\Python\\Python310\\lib\\site-packages\\xgboost\\training.py:183: UserWarning: [03:02:28] WARNING: C:\\actions-runner\\_work\\xgboost\\xgboost\\src\\learner.cc:738: \n",
      "Parameters: { \"use_label_encoder\" } are not used.\n",
      "\n",
      "  bst.update(dtrain, iteration=i, fobj=obj)\n"
     ]
    },
    {
     "name": "stdout",
     "output_type": "stream",
     "text": [
      "\n",
      "XGBoost\n",
      "              precision    recall  f1-score   support\n",
      "\n",
      "           0       0.51      0.19      0.28      1078\n",
      "           1       0.79      0.94      0.86      3549\n",
      "\n",
      "    accuracy                           0.77      4627\n",
      "   macro avg       0.65      0.57      0.57      4627\n",
      "weighted avg       0.73      0.77      0.73      4627\n",
      "\n",
      "ROC AUC Score: 0.6697954060591423\n"
     ]
    }
   ],
   "source": [
    "from sklearn.model_selection import train_test_split\n",
    "from sklearn.preprocessing import LabelEncoder\n",
    "from sklearn.metrics import classification_report, roc_auc_score\n",
    "from sklearn.ensemble import RandomForestClassifier\n",
    "from sklearn.linear_model import LogisticRegression\n",
    "import xgboost as xgb\n",
    "\n",
    "# Step 1: Binary encode the target\n",
    "df_cleaned[\"TARGET\"] = df_cleaned[\"Q29_ANNUAL_SCRN\"].map({1: 0, 2: 1})\n",
    "\n",
    "# Step 2: Drop columns that won't help\n",
    "df_model = df_cleaned.drop(columns=[\"MEMBER_ID\", \"SURVEY_DATE\", \"Q29_ANNUAL_SCRN\"])\n",
    "\n",
    "# Step 3: Label encode all categorical columns\n",
    "for col in df_model.columns:\n",
    "    if df_model[col].dtype == \"object\":\n",
    "        df_model[col] = LabelEncoder().fit_transform(df_model[col].astype(str))\n",
    "\n",
    "# Step 4: Split data\n",
    "X = df_model.drop(columns=[\"TARGET\"])\n",
    "y = df_model[\"TARGET\"]\n",
    "X_train, X_test, y_train, y_test = train_test_split(X, y, test_size=0.2, random_state=42)\n",
    "\n",
    "# Step 5: Train models\n",
    "lr = LogisticRegression(max_iter=1000)\n",
    "rf = RandomForestClassifier(n_estimators=100, random_state=42)\n",
    "xgb_clf = xgb.XGBClassifier(use_label_encoder=False, eval_metric='logloss')\n",
    "\n",
    "models = {\n",
    "    \"Logistic Regression\": lr,\n",
    "    \"Random Forest\": rf,\n",
    "    \"XGBoost\": xgb_clf\n",
    "}\n",
    "\n",
    "# Step 6: Fit and evaluate\n",
    "for name, model in models.items():\n",
    "    model.fit(X_train, y_train)\n",
    "    preds = model.predict(X_test)\n",
    "    probas = model.predict_proba(X_test)[:, 1]\n",
    "    print(f\"\\n{name}\")\n",
    "    print(classification_report(y_test, preds))\n",
    "    print(\"ROC AUC Score:\", roc_auc_score(y_test, probas))\n"
   ]
  },
  {
   "cell_type": "code",
   "execution_count": 12,
   "id": "23c7352f",
   "metadata": {},
   "outputs": [
    {
     "data": {
      "image/png": "[encoded data removed]",
      "text/plain": [
       "<Figure size 1000x600 with 1 Axes>"
      ]
     },
     "metadata": {},
     "output_type": "display_data"
    }
   ],
   "source": [
    "import matplotlib.pyplot as plt\n",
    "import seaborn as sns\n",
    "\n",
    "# Random Forest feature importances\n",
    "importances = rf.feature_importances_\n",
    "feat_names = X.columns\n",
    "feat_df = pd.DataFrame({\"Feature\": feat_names, \"Importance\": importances})\n",
    "feat_df = feat_df.sort_values(\"Importance\", ascending=False).head(20)\n",
    "\n",
    "# Plot\n",
    "plt.figure(figsize=(10,6))\n",
    "sns.barplot(x=\"Importance\", y=\"Feature\", data=feat_df)\n",
    "plt.title(\"Top 20 Important Features (Random Forest)\")\n",
    "plt.tight_layout()\n",
    "plt.show()\n"
   ]
  },
  {
   "cell_type": "code",
   "execution_count": null,
   "id": "694982b5",
   "metadata": {},
   "outputs": [],
   "source": []
  },
  {
   "cell_type": "code",
   "execution_count": null,
   "id": "8f5c3c86",
   "metadata": {},
   "outputs": [],
   "source": []
  },
  {
   "cell_type": "code",
   "execution_count": null,
   "id": "a597575d",
   "metadata": {},
   "outputs": [],
   "source": []
  }
 ],
 "metadata": {
  "kernelspec": {
   "display_name": "Python 3",
   "language": "python",
   "name": "python3"
  },
  "language_info": {
   "codemirror_mode": {
    "name": "ipython",
    "version": 3
   },
   "file_extension": ".py",
   "mimetype": "text/x-python",
   "name": "python",
   "nbconvert_exporter": "python",
   "pygments_lexer": "ipython3",
   "version": "3.10.0"
  }
 },
 "nbformat": 4,
 "nbformat_minor": 5
}
